{
 "cells": [
  {
   "cell_type": "code",
   "execution_count": 10,
   "id": "e9e668ef",
   "metadata": {},
   "outputs": [],
   "source": [
    "from sc3.all import *\n",
    "import random"
   ]
  },
  {
   "cell_type": "code",
   "execution_count": 4,
   "id": "53736803",
   "metadata": {},
   "outputs": [
    {
     "name": "stderr",
     "output_type": "stream",
     "text": [
      "INFO:sc3.synth.server:booting server 'localhost' on address 127.0.0.1:57110\n",
      "INFO:SERVER.stdout:JackDriver: client name is 'SuperCollider'\n",
      "INFO:SERVER.stdout:SC_AudioDriver: sample rate = 48000.000000, driver's block size = 512\n",
      "INFO:SERVER.stdout:JackDriver: connected  system:capture_1 to SuperCollider:in_1\n",
      "INFO:SERVER.stdout:JackDriver: connected  system:capture_2 to SuperCollider:in_2\n",
      "INFO:SERVER.stdout:JackDriver: connected  SuperCollider:out_1 to system:playback_1\n",
      "INFO:SERVER.stdout:JackDriver: connected  SuperCollider:out_2 to system:playback_2\n",
      "INFO:SERVER.stdout:SuperCollider 3 server ready.\n",
      "INFO:SERVER.stdout:JackDriver: max output latency 21.3 ms\n",
      "INFO:sc3.synth._serverstatus:'localhost': requested registration id\n",
      "INFO:sc3.synth._serverstatus:'localhost': setting client_id to 0\n"
     ]
    }
   ],
   "source": [
    "s.boot()"
   ]
  },
  {
   "cell_type": "code",
   "execution_count": 8,
   "id": "2f73ecc4",
   "metadata": {},
   "outputs": [],
   "source": [
    "b1 = Buffer.new_read('../björk  - losss-tIWhpI_unCo.wav')\n",
    "@synthdef\n",
    "def player(buff, trig:\"tr\"=1, rate=1.0, pos=0, dur=1.0, amp=1.0):\n",
    "    phase = Phasor.ar(trig, BufRateScale.kr(buff) * rate, BufFrames.kr(buff)*pos, BufFrames.kr(buff)*(pos+dur), pos*BufFrames.kr(buff))\n",
    "    p = BufRd.ar(2,buff,phase)*amp\n",
    "    Out(0, p)"
   ]
  },
  {
   "cell_type": "markdown",
   "id": "7759378d",
   "metadata": {},
   "source": [
    "## Create N players"
   ]
  },
  {
   "cell_type": "code",
   "execution_count": 11,
   "id": "e9c3d056",
   "metadata": {},
   "outputs": [],
   "source": [
    "N = 32\n",
    "ps = []\n",
    "for i in range(N):\n",
    "    pos = random.random()\n",
    "    dur = random.choice([1,2,3,4,6])*0.001\n",
    "    rate = random.choice([1,2,3,4,6,8])*0.125\n",
    "    ps.append(player(b1, 1, rate, pos=pos, dur=dur,  amp=0.1))"
   ]
  },
  {
   "cell_type": "markdown",
   "id": "492e123e",
   "metadata": {},
   "source": [
    "## Change their parameters"
   ]
  },
  {
   "cell_type": "code",
   "execution_count": 34,
   "id": "db07bb53",
   "metadata": {},
   "outputs": [],
   "source": [
    "for p in ps:\n",
    "    pos = random.random()\n",
    "    dur = random.choice([1,2,3,4,6])*0.001\n",
    "    rate = random.choice([1,2,3,4,6,8])*0.125\n",
    "    p.set('pos',pos,'dur',dur,'rate',rate,'trig',1)"
   ]
  },
  {
   "cell_type": "code",
   "execution_count": 35,
   "id": "cc3dcf58",
   "metadata": {},
   "outputs": [],
   "source": [
    "CmdPeriod.run()"
   ]
  }
 ],
 "metadata": {
  "kernelspec": {
   "display_name": "Python 3",
   "language": "python",
   "name": "python3"
  },
  "language_info": {
   "codemirror_mode": {
    "name": "ipython",
    "version": 3
   },
   "file_extension": ".py",
   "mimetype": "text/x-python",
   "name": "python",
   "nbconvert_exporter": "python",
   "pygments_lexer": "ipython3",
   "version": "3.8.5"
  }
 },
 "nbformat": 4,
 "nbformat_minor": 5
}
