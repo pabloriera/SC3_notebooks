{
 "cells": [
  {
   "cell_type": "code",
   "execution_count": 1,
   "id": "c4ff5584",
   "metadata": {},
   "outputs": [
    {
     "name": "stderr",
     "output_type": "stream",
     "text": [
      "INFO:sc3.synth.server:setting global variable 's' to 'localhost'\n",
      "INFO:sc3.synth.server:booting server 'localhost' on address 127.0.0.1:57110\n",
      "INFO:SERVER.stdout:Faust: supercollider.cpp: sc_api_version = 3\n",
      "INFO:SERVER.stdout:Faust: FaustJPverbRaw numControls=11\n",
      "INFO:SERVER.stdout:Found 0 LADSPA plugins\n",
      "INFO:SERVER.stdout:Faust: supercollider.cpp: sc_api_version = 3\n",
      "INFO:SERVER.stdout:Faust: FaustGreyholeRaw numControls=7\n",
      "INFO:SERVER.stdout:JackDriver: client name is 'SuperCollider'\n",
      "INFO:SERVER.stdout:SC_AudioDriver: sample rate = 48000.000000, driver's block size = 1024\n",
      "INFO:SERVER.stdout:JackDriver: connected  system:capture_1 to SuperCollider:in_1\n",
      "INFO:SERVER.stdout:JackDriver: connected  system:capture_2 to SuperCollider:in_2\n",
      "INFO:SERVER.stdout:JackDriver: connected  SuperCollider:out_1 to system:playback_1\n",
      "INFO:SERVER.stdout:JackDriver: connected  SuperCollider:out_2 to system:playback_2\n",
      "INFO:SERVER.stdout:SuperCollider 3 server ready.\n",
      "INFO:SERVER.stdout:JackDriver: max output latency 42.7 ms\n"
     ]
    }
   ],
   "source": [
    "from sc3.all import *\n",
    "import random\n",
    "import numpy as np\n",
    "\n",
    "s.boot()"
   ]
  },
  {
   "cell_type": "code",
   "execution_count": 15,
   "id": "0606f8d1",
   "metadata": {},
   "outputs": [],
   "source": [
    "CmdPeriod.run()"
   ]
  },
  {
   "cell_type": "markdown",
   "id": "d01232fb",
   "metadata": {},
   "source": [
    "# Synths"
   ]
  },
  {
   "cell_type": "code",
   "execution_count": 16,
   "id": "46b7b2c0",
   "metadata": {},
   "outputs": [],
   "source": [
    "@synthdef\n",
    "def misinte(freq=440, amp=0.1, gate=1, trig:'tr'=1):\n",
    "    sig = SinOsc(freq) * amp\n",
    "    sig *= EnvGen(Env.asr(), gate+trig)\n",
    "    Out(0, sig.dup())"
   ]
  },
  {
   "cell_type": "code",
   "execution_count": 17,
   "id": "416767b2",
   "metadata": {},
   "outputs": [],
   "source": [
    "x = misinte(gate=0)"
   ]
  },
  {
   "cell_type": "code",
   "execution_count": 13,
   "id": "68ce3d69",
   "metadata": {},
   "outputs": [],
   "source": [
    "x.set('freq',np.random.rand()*500+100,'trig',1)"
   ]
  },
  {
   "cell_type": "markdown",
   "id": "3b849701",
   "metadata": {},
   "source": [
    "# Buses"
   ]
  },
  {
   "cell_type": "code",
   "execution_count": 6,
   "id": "0534cbdd",
   "metadata": {},
   "outputs": [],
   "source": [
    "@synthdef\n",
    "def misinte2(freq, amp=0.1, gate=1):\n",
    "    freq = In.kr(freq)\n",
    "    sig = SinOsc(freq) * amp\n",
    "    Out(0, sig.dup())\n",
    "    \n",
    "@synthdef\n",
    "def modulator(bus, freq=1.0,amp=1.0,add=0.0):\n",
    "    Out.kr(bus, SinOsc(freq)*amp+add)"
   ]
  },
  {
   "cell_type": "code",
   "execution_count": 7,
   "id": "0bb117f3",
   "metadata": {},
   "outputs": [],
   "source": [
    "b = ControlBus()\n",
    "x = misinte2(freq=b)\n",
    "y = modulator(salida=b)"
   ]
  },
  {
   "cell_type": "code",
   "execution_count": 8,
   "id": "37698beb",
   "metadata": {},
   "outputs": [],
   "source": [
    "y.set('add',440,'amp',100.0,'freq',np.random.rand()*50)"
   ]
  },
  {
   "cell_type": "code",
   "execution_count": 56,
   "id": "ca071158",
   "metadata": {},
   "outputs": [],
   "source": [
    "CmdPeriod.run()"
   ]
  },
  {
   "cell_type": "markdown",
   "id": "d64f57ae",
   "metadata": {},
   "source": [
    "# Buffer"
   ]
  },
  {
   "cell_type": "code",
   "execution_count": 66,
   "id": "77fc1a0a",
   "metadata": {},
   "outputs": [],
   "source": [
    "b1 = Buffer.new_read('../björk  - losss-tIWhpI_unCo.wav')\n",
    "@synthdef\n",
    "def player(buff, trig:\"tr\"=1, rate=1.0, pos=0, dur=1.0, amp=1.0):\n",
    "    phase = Phasor.ar(trig, BufRateScale.kr(buff) * rate, BufFrames.kr(buff)*pos, BufFrames.kr(buff)*(pos+dur), pos*BufFrames.kr(buff))\n",
    "    p = BufRd.ar(2,buff,phase)*amp\n",
    "    Out(0, p)"
   ]
  },
  {
   "cell_type": "code",
   "execution_count": 67,
   "id": "5077b999",
   "metadata": {},
   "outputs": [],
   "source": [
    "x = player(b1, 1, 1, pos=0, dur=1,  amp=1)"
   ]
  },
  {
   "cell_type": "code",
   "execution_count": 68,
   "id": "e6b08ecf",
   "metadata": {},
   "outputs": [],
   "source": [
    "x.set('rate',0.5,'dur',0.001)"
   ]
  },
  {
   "cell_type": "markdown",
   "id": "8f77963d",
   "metadata": {},
   "source": [
    "## Reproducir array"
   ]
  },
  {
   "cell_type": "code",
   "execution_count": 400,
   "id": "e8165f73",
   "metadata": {},
   "outputs": [],
   "source": [
    "n = 2**16\n",
    "b2 = Buffer(n, channels=2)"
   ]
  },
  {
   "cell_type": "code",
   "execution_count": 417,
   "id": "99c3eba0",
   "metadata": {},
   "outputs": [
    {
     "data": {
      "text/plain": [
       "Synth(temp__50 : 1055)"
      ]
     },
     "execution_count": 417,
     "metadata": {},
     "output_type": "execute_result"
    }
   ],
   "source": [
    "sr = s._status_watcher.sample_rate\n",
    "t = np.arange(n//2)/sr\n",
    "x = np.sin(2*np.pi*t*440)*np.exp(-t/0.1)\n",
    "b2.send_list(x.repeat(2))\n",
    "play(b2)"
   ]
  },
  {
   "cell_type": "code",
   "execution_count": 418,
   "id": "7183cefc",
   "metadata": {},
   "outputs": [],
   "source": [
    "CmdPeriod.run()"
   ]
  },
  {
   "cell_type": "markdown",
   "id": "fb684e3e",
   "metadata": {},
   "source": [
    "# Sequencer"
   ]
  },
  {
   "cell_type": "code",
   "execution_count": 18,
   "id": "e89eb0cd",
   "metadata": {},
   "outputs": [],
   "source": [
    "inf = float('inf')\n",
    "clock = TempoClock(110/60)\n",
    "\n",
    "@routine\n",
    "def r():\n",
    "    p = Pxrand([0, 2, 4, 7, 9, 12], inf)\n",
    "    d = Pxrand([1, 0.5, 0.25], inf)\n",
    "    for note, dur in zip(p, d):\n",
    "        play(instrument='misinte', note=note,  sustain=dur * random.random())\n",
    "        yield dur\n",
    "\n",
    "r.play(clock)"
   ]
  },
  {
   "cell_type": "code",
   "execution_count": 19,
   "id": "b39d8132",
   "metadata": {},
   "outputs": [],
   "source": [
    "r.stop()"
   ]
  }
 ],
 "metadata": {
  "kernelspec": {
   "display_name": "Python 3",
   "language": "python",
   "name": "python3"
  },
  "language_info": {
   "codemirror_mode": {
    "name": "ipython",
    "version": 3
   },
   "file_extension": ".py",
   "mimetype": "text/x-python",
   "name": "python",
   "nbconvert_exporter": "python",
   "pygments_lexer": "ipython3",
   "version": "3.8.5"
  }
 },
 "nbformat": 4,
 "nbformat_minor": 5
}
