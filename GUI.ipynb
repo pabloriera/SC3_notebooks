{
 "cells": [
  {
   "cell_type": "code",
   "execution_count": 1,
   "id": "41788c22",
   "metadata": {},
   "outputs": [
    {
     "name": "stderr",
     "output_type": "stream",
     "text": [
      "INFO:sc3.synth.server:setting global variable 's' to 'localhost'\n"
     ]
    }
   ],
   "source": [
    "from sc3.all import *\n",
    "import ipywidgets as widgets"
   ]
  },
  {
   "cell_type": "code",
   "execution_count": 2,
   "id": "c5a67cc1",
   "metadata": {},
   "outputs": [
    {
     "name": "stderr",
     "output_type": "stream",
     "text": [
      "INFO:sc3.synth.server:booting server 'localhost' on address 127.0.0.1:57110\n",
      "INFO:SERVER.stdout:Faust: supercollider.cpp: sc_api_version = 3\n",
      "INFO:SERVER.stdout:Faust: FaustJPverbRaw numControls=11\n",
      "INFO:SERVER.stdout:Found 0 LADSPA plugins\n",
      "INFO:SERVER.stdout:Faust: supercollider.cpp: sc_api_version = 3\n",
      "INFO:SERVER.stdout:Faust: FaustGreyholeRaw numControls=7\n",
      "INFO:SERVER.stdout:JackDriver: client name is 'SuperCollider'\n",
      "INFO:SERVER.stdout:SC_AudioDriver: sample rate = 48000.000000, driver's block size = 1024\n",
      "INFO:SERVER.stdout:JackDriver: connected  system:capture_1 to SuperCollider:in_1\n",
      "INFO:SERVER.stdout:JackDriver: connected  system:capture_2 to SuperCollider:in_2\n",
      "INFO:SERVER.stdout:JackDriver: connected  SuperCollider:out_1 to system:playback_1\n",
      "INFO:SERVER.stdout:JackDriver: connected  SuperCollider:out_2 to system:playback_2\n",
      "INFO:SERVER.stdout:SuperCollider 3 server ready.\n",
      "INFO:SERVER.stdout:JackDriver: max output latency 42.7 ms\n",
      "INFO:sc3.synth._serverstatus:'localhost': requested registration id\n",
      "INFO:sc3.synth._serverstatus:'localhost': setting client_id to 0\n"
     ]
    }
   ],
   "source": [
    "s.boot()"
   ]
  },
  {
   "cell_type": "markdown",
   "id": "324f5743",
   "metadata": {},
   "source": [
    "## Basic Synth GUI"
   ]
  },
  {
   "cell_type": "code",
   "execution_count": 2,
   "id": "f3137ea7",
   "metadata": {},
   "outputs": [],
   "source": [
    "@synthdef\n",
    "def sine(freq=440, amp=0.1, gate=1):\n",
    "    sig = SinOsc(Lag.kr(freq)) * Lag.kr(amp)\n",
    "    env = EnvGen(Env.adsr(), gate, done_action=0)\n",
    "    Out(0, (sig * env).dup())"
   ]
  },
  {
   "cell_type": "code",
   "execution_count": 6,
   "id": "90887083",
   "metadata": {
    "scrolled": true
   },
   "outputs": [
    {
     "data": {
      "application/vnd.jupyter.widget-view+json": {
       "model_id": "1f4479fd52334b03bd0f87865bd06374",
       "version_major": 2,
       "version_minor": 0
      },
      "text/plain": [
       "interactive(children=(FloatLogSlider(value=400.0, description='freq', max=3.0, min=1.5, step=0.01), FloatLogSl…"
      ]
     },
     "metadata": {},
     "output_type": "display_data"
    }
   ],
   "source": [
    "n = Synth('sine',880)\n",
    "\n",
    "def f(freq=100, amp=1.0, trigg=False):\n",
    "    n.set('freq',freq)\n",
    "    n.set('amp',amp)\n",
    "    n.set('gate',int(trigg))\n",
    "    \n",
    "widgets.interact(f, freq = widgets.FloatLogSlider(min=1.5, max=3, step=0.01, value=400),\n",
    "            amp = widgets.FloatLogSlider(min=-1, max=0, step=0.01, value=0.8),\n",
    "            trigg = True,\n",
    "        );"
   ]
  },
  {
   "cell_type": "markdown",
   "id": "6f954b12",
   "metadata": {},
   "source": [
    "## Granular"
   ]
  },
  {
   "cell_type": "code",
   "execution_count": 5,
   "id": "3d865537",
   "metadata": {},
   "outputs": [],
   "source": [
    "@synthdef\n",
    "def granular(buf, freq = 10, dur= 0.1, amp=1.0, rate=1, pos = 0.5, pos_freq=0.1, pos_span=0.01):\n",
    "    grain = GrainBuf(2, Dust.kr(freq), dur, buf, rate, LFNoise2.kr(pos_freq).range(0, pos_span) + pos, 2, 0)\n",
    "    Out(0, grain)"
   ]
  },
  {
   "cell_type": "code",
   "execution_count": 6,
   "id": "e026d38f",
   "metadata": {},
   "outputs": [],
   "source": [
    "b1 = Buffer.new_read_channel('../björk  - losss-tIWhpI_unCo.wav', channels=[0])"
   ]
  },
  {
   "cell_type": "code",
   "execution_count": 7,
   "id": "b53c2329",
   "metadata": {},
   "outputs": [
    {
     "data": {
      "application/vnd.jupyter.widget-view+json": {
       "model_id": "f58baeedd6d344b8a223507460212804",
       "version_major": 2,
       "version_minor": 0
      },
      "text/plain": [
       "interactive(children=(FloatLogSlider(value=50.0, description='freq', max=3.0, min=-1.0, step=0.01), FloatLogSl…"
      ]
     },
     "metadata": {},
     "output_type": "display_data"
    },
    {
     "name": "stderr",
     "output_type": "stream",
     "text": [
      "INFO:SERVER.stdout:FAILURE IN SERVER /n_set Node 1001 not found\n",
      "INFO:SERVER.stdout:FAILURE IN SERVER /n_set Node 1001 not found\n",
      "INFO:SERVER.stdout:FAILURE IN SERVER /n_set Node 1001 not found\n",
      "INFO:SERVER.stdout:FAILURE IN SERVER /n_set Node 1001 not found\n",
      "INFO:SERVER.stdout:FAILURE IN SERVER /n_set Node 1001 not found\n",
      "INFO:SERVER.stdout:FAILURE IN SERVER /n_set Node 1001 not found\n"
     ]
    }
   ],
   "source": [
    "n2 = granular(b1)\n",
    "\n",
    "def f2(**kwargs):\n",
    "    for k,v in kwargs.items():\n",
    "        n2.set(k, v)\n",
    "    \n",
    "widgets.interact(f2, freq = widgets.FloatLogSlider(min=-1, max=3, step=0.01, value=50),\n",
    "             dur = widgets.FloatLogSlider(min=-3, max=0, step=0.001, value=0.1),\n",
    "             rate = widgets.FloatLogSlider(min=-1, max=1.5, step=0.01, value=1),\n",
    "             pos = widgets.FloatSlider(min=0, max=1, step=0.001, value=0.5),\n",
    "             pos_freq = widgets.FloatLogSlider(min=-2, max=1, step=0.01, value=0.1),\n",
    "             pos_span = widgets.FloatSlider(min=0, max=0.2, step=0.001, value=0.01)\n",
    "        );"
   ]
  },
  {
   "cell_type": "code",
   "execution_count": 8,
   "id": "35580fc1",
   "metadata": {},
   "outputs": [],
   "source": [
    "CmdPeriod.run()"
   ]
  }
 ],
 "metadata": {
  "@webio": {
   "lastCommId": null,
   "lastKernelId": null
  },
  "kernelspec": {
   "display_name": "Python 3",
   "language": "python",
   "name": "python3"
  },
  "language_info": {
   "codemirror_mode": {
    "name": "ipython",
    "version": 3
   },
   "file_extension": ".py",
   "mimetype": "text/x-python",
   "name": "python",
   "nbconvert_exporter": "python",
   "pygments_lexer": "ipython3",
   "version": "3.8.5"
  }
 },
 "nbformat": 4,
 "nbformat_minor": 5
}
