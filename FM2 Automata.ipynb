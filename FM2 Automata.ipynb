{
 "cells": [
  {
   "cell_type": "code",
   "execution_count": 1,
   "id": "54d001af",
   "metadata": {},
   "outputs": [
    {
     "data": {
      "text/plain": [
       "['Midi Through:Midi Through Port-0 14:0',\n",
       " 'Midi Through:Midi Through Port-0 14:0']"
      ]
     },
     "execution_count": 1,
     "metadata": {},
     "output_type": "execute_result"
    }
   ],
   "source": [
    "import mido\n",
    "mido.get_input_names()"
   ]
  },
  {
   "cell_type": "code",
   "execution_count": 2,
   "id": "55c54494",
   "metadata": {},
   "outputs": [],
   "source": [
    "midiin_port = 'Midi Through:Midi Through Port-0 14:0'"
   ]
  },
  {
   "cell_type": "code",
   "execution_count": 3,
   "id": "06f3f87d",
   "metadata": {},
   "outputs": [
    {
     "name": "stderr",
     "output_type": "stream",
     "text": [
      "INFO:sc3.synth.server:setting global variable 's' to 'localhost'\n"
     ]
    }
   ],
   "source": [
    "from sc3.all import *\n",
    "\n",
    "import ipywidgets as widgets\n",
    "import numpy as np\n",
    "\n",
    "from utils import boot, toolbar, button, nodewidgets, guiwidgets, MidiInput"
   ]
  },
  {
   "cell_type": "code",
   "execution_count": 4,
   "id": "861c08cb",
   "metadata": {},
   "outputs": [
    {
     "name": "stderr",
     "output_type": "stream",
     "text": [
      "INFO:sc3.synth.server:booting server 'localhost' on address 127.0.0.1:57110\n",
      "INFO:SERVER.stdout:Faust: supercollider.cpp: sc_api_version = 3\n",
      "INFO:SERVER.stdout:Faust: FaustJPverbRaw numControls=11\n",
      "INFO:SERVER.stdout:Found 0 LADSPA plugins\n",
      "INFO:SERVER.stdout:Faust: supercollider.cpp: sc_api_version = 3\n",
      "INFO:SERVER.stdout:Faust: FaustGreyholeRaw numControls=7\n",
      "INFO:SERVER.stdout:JackDriver: client name is 'SuperCollider'\n",
      "INFO:SERVER.stdout:SC_AudioDriver: sample rate = 48000.000000, driver's block size = 1024\n",
      "INFO:SERVER.stdout:JackDriver: connected  system:capture_1 to SuperCollider:in_1\n",
      "INFO:SERVER.stdout:JackDriver: connected  system:capture_2 to SuperCollider:in_2\n",
      "INFO:SERVER.stdout:JackDriver: connected  SuperCollider:out_1 to system:playback_1\n",
      "INFO:SERVER.stdout:JackDriver: connected  SuperCollider:out_2 to system:playback_2\n",
      "INFO:SERVER.stdout:SuperCollider 3 server ready.\n",
      "INFO:SERVER.stdout:JackDriver: max output latency 42.7 ms\n",
      "INFO:sc3.synth._serverstatus:'localhost': requested registration id\n",
      "INFO:sc3.synth._serverstatus:'localhost': setting client_id to 0\n"
     ]
    }
   ],
   "source": [
    "boot()"
   ]
  },
  {
   "cell_type": "markdown",
   "id": "e62a5ab4",
   "metadata": {},
   "source": [
    "# FM2 Automata"
   ]
  },
  {
   "cell_type": "code",
   "execution_count": 5,
   "id": "a508a31d",
   "metadata": {
    "scrolled": false
   },
   "outputs": [],
   "source": [
    "@synthdef\n",
    "def fm2(mul1,mul2,add1,add2,amp,lagtime):\n",
    "    local = LocalIn.ar(2)\n",
    "    source1 = local[1]*VarLag.kr(mul1,lagtime) + VarLag.kr(add1,lagtime)\n",
    "    source2 = local[0]*VarLag.kr(mul2,lagtime) + VarLag.kr(add2,lagtime)\n",
    "    osc1 = SinOsc(source1)\n",
    "    osc2 = SinOsc(source2)\n",
    "    out = [osc1,osc2]\n",
    "    LocalOut(out)    \n",
    "    Out(0,[o*VarLag.kr(amp,lagtime) for o in out])\n",
    "main.sync(s);"
   ]
  },
  {
   "cell_type": "code",
   "execution_count": 6,
   "id": "20783544",
   "metadata": {},
   "outputs": [],
   "source": [
    "n = fm2(0,100,5,400,0.8)"
   ]
  },
  {
   "cell_type": "code",
   "execution_count": 7,
   "id": "7d69e599",
   "metadata": {},
   "outputs": [],
   "source": [
    "tempoclock = TempoClock(2)"
   ]
  },
  {
   "cell_type": "code",
   "execution_count": 8,
   "id": "c0f44f55",
   "metadata": {},
   "outputs": [],
   "source": [
    "midiin = MidiInput(midiin_port)"
   ]
  },
  {
   "cell_type": "code",
   "execution_count": 9,
   "id": "dce17ce4",
   "metadata": {},
   "outputs": [],
   "source": [
    "########### synth parameters control ############\n",
    "\n",
    "synth_conf = {\n",
    " 'mul1': {'min':0,'max':600,'step':0.01,'value':1, 'cc':1},\n",
    " 'mul2': {'min':0,'max':600,'step':0.01,'value':100, 'cc':2},\n",
    " 'add1': {'min':0,'max':800,'step':0.01,'value':5, 'cc':3},\n",
    " 'add2': {'min':0,'max':800,'step':0.01,'value':400, 'cc':4},\n",
    " 'amp': {'min':0,'max':1,'step':0.01,'value':0.8, 'cc':5},\n",
    " 'lagtime': {'min':-2,'max':1.5,'step':0.01,'value':0.5,'scale':'log', 'cc':6}\n",
    "}\n",
    "\n",
    "rhythm_conf = {\n",
    " 'tempo': {'min':0,'max':16,'step':0.01,'value':8, 'cc':7},\n",
    " 'rhythm': {'min':0,'max':30,'step':0.01,'value':1, 'cc':8},\n",
    " 'dmin': {'min':0,'max':2,'step':0.01,'value':0.1, 'cc':9}\n",
    "}\n"
   ]
  },
  {
   "cell_type": "code",
   "execution_count": 10,
   "id": "cd7d3cb7",
   "metadata": {},
   "outputs": [],
   "source": [
    "########### rhythm routine ############\n",
    "\n",
    "n_steps = widgets.IntSlider(min=1, max=12, step=1, value=4)\n",
    "steps = []\n",
    "\n",
    "def randomize_steps(x):\n",
    "    steps.clear()\n",
    "    for step in range(n_steps.value):\n",
    "        d = {}\n",
    "        for param, conf in synth_conf.items():\n",
    "            if param not in ['lagtime','amp']:\n",
    "                d[param] = np.random.uniform(conf['min'],conf['max'])\n",
    "        steps.append(d)\n",
    "        \n",
    "randomize_steps(None)\n",
    "\n",
    "rhythm_param = {}\n",
    "\n",
    "@routine\n",
    "def rhythm_routine():\n",
    "    d = 0\n",
    "    step = -1\n",
    "    while True:\n",
    "        step += 1\n",
    "        d = (np.cos(rhythm_param['rhythm']*d)+1) + rhythm_param['dmin']\n",
    "        if len(steps)>0:\n",
    "            params = steps[step%len(steps)]\n",
    "            for w in wf.widget.children:\n",
    "                state = w.get_state()\n",
    "                if 'description' in state:\n",
    "                    key = state['description']\n",
    "                    if key in params:\n",
    "                        w.value=params[key]\n",
    "        yield d\n",
    "        \n",
    "def rhythm_func(**kwargs):\n",
    "    try:\n",
    "        tempoclock.tempo = kwargs['tempo']\n",
    "    except:\n",
    "        pass\n",
    "    rhythm_param['rhythm'] = kwargs['rhythm']\n",
    "    rhythm_param['dmin'] = kwargs['dmin']\n",
    "    \n",
    "def pause(x):\n",
    "    if rhythm_routine.state.value==1:\n",
    "        rhythm_routine.play(tempoclock)  \n",
    "    elif rhythm_routine.state.value==4:\n",
    "        rhythm_routine.resume()    \n",
    "    elif rhythm_routine.state.value in [2,3]:\n",
    "        rhythm_routine.pause()\n",
    "    elif rhythm_routine.state.value==5:\n",
    "        rhythm_routine.reset()\n",
    "        rhythm_routine.play(tempoclock)"
   ]
  },
  {
   "cell_type": "code",
   "execution_count": 1,
   "id": "5b8cb359",
   "metadata": {},
   "outputs": [
    {
     "ename": "NameError",
     "evalue": "name 'nodewidgets' is not defined",
     "output_type": "error",
     "traceback": [
      "\u001b[0;31m---------------------------------------------------------------------------\u001b[0m",
      "\u001b[0;31mNameError\u001b[0m                                 Traceback (most recent call last)",
      "\u001b[0;32m/tmp/ipykernel_31483/995672865.py\u001b[0m in \u001b[0;36m<module>\u001b[0;34m\u001b[0m\n\u001b[0;32m----> 1\u001b[0;31m \u001b[0mwf\u001b[0m \u001b[0;34m=\u001b[0m \u001b[0mnodewidgets\u001b[0m\u001b[0;34m(\u001b[0m\u001b[0mn\u001b[0m\u001b[0;34m,\u001b[0m \u001b[0msynth_conf\u001b[0m\u001b[0;34m,\u001b[0m \u001b[0mmidiin\u001b[0m\u001b[0;34m)\u001b[0m\u001b[0;34m;\u001b[0m\u001b[0;34m\u001b[0m\u001b[0;34m\u001b[0m\u001b[0m\n\u001b[0m\u001b[1;32m      2\u001b[0m \u001b[0mguiwidgets\u001b[0m\u001b[0;34m(\u001b[0m\u001b[0mrhythm_conf\u001b[0m\u001b[0;34m,\u001b[0m \u001b[0mrhythm_func\u001b[0m\u001b[0;34m,\u001b[0m \u001b[0mmidiin\u001b[0m\u001b[0;34m)\u001b[0m\u001b[0;34m;\u001b[0m\u001b[0;34m\u001b[0m\u001b[0;34m\u001b[0m\u001b[0m\n\u001b[1;32m      3\u001b[0m \u001b[0;34m\u001b[0m\u001b[0m\n\u001b[1;32m      4\u001b[0m \u001b[0mdisplay\u001b[0m\u001b[0;34m(\u001b[0m\u001b[0mbutton\u001b[0m\u001b[0;34m(\u001b[0m\u001b[0;34m'Play/Pause'\u001b[0m\u001b[0;34m,\u001b[0m\u001b[0mpause\u001b[0m\u001b[0;34m)\u001b[0m\u001b[0;34m)\u001b[0m\u001b[0;34m\u001b[0m\u001b[0;34m\u001b[0m\u001b[0m\n\u001b[1;32m      5\u001b[0m \u001b[0mdisplay\u001b[0m\u001b[0;34m(\u001b[0m\u001b[0mbutton\u001b[0m\u001b[0;34m(\u001b[0m\u001b[0;34m'Randomize Steps'\u001b[0m\u001b[0;34m,\u001b[0m\u001b[0mrandomize_steps\u001b[0m\u001b[0;34m)\u001b[0m\u001b[0;34m)\u001b[0m\u001b[0;34m\u001b[0m\u001b[0;34m\u001b[0m\u001b[0m\n",
      "\u001b[0;31mNameError\u001b[0m: name 'nodewidgets' is not defined"
     ]
    }
   ],
   "source": [
    "wf = nodewidgets(n, synth_conf, midiin);\n",
    "guiwidgets(rhythm_conf, rhythm_func, midiin);\n",
    "        \n",
    "display(button('Play/Pause',pause))\n",
    "display(button('Randomize Steps',randomize_steps))\n",
    "display(n_steps)\n",
    "display(toolbar())"
   ]
  }
 ],
 "metadata": {
  "@webio": {
   "lastCommId": null,
   "lastKernelId": null
  },
  "kernelspec": {
   "display_name": "Python 3",
   "language": "python",
   "name": "python3"
  },
  "language_info": {
   "codemirror_mode": {
    "name": "ipython",
    "version": 3
   },
   "file_extension": ".py",
   "mimetype": "text/x-python",
   "name": "python",
   "nbconvert_exporter": "python",
   "pygments_lexer": "ipython3",
   "version": "3.8.5"
  }
 },
 "nbformat": 4,
 "nbformat_minor": 5
}
